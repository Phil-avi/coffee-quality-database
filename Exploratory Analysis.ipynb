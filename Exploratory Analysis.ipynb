{
 "cells": [
  {
   "cell_type": "code",
   "execution_count": 230,
   "metadata": {},
   "outputs": [],
   "source": [
    "import pandas as pd\n",
    "pd.set_option('display.max_columns',50)\n",
    "\n",
    "import numpy as np\n",
    "import os\n",
    "import matplotlib.pyplot as plt\n",
    "\n",
    "import seaborn as sns\n",
    "%matplotlib inline \n",
    "\n",
    "import warnings\n",
    "warnings.filterwarnings('ignore')"
   ]
  },
  {
   "cell_type": "markdown",
   "metadata": {},
   "source": [
    "## Summarise the dataset"
   ]
  },
  {
   "cell_type": "code",
   "execution_count": 185,
   "metadata": {},
   "outputs": [],
   "source": [
    "arabica_df=pd.read_csv('/Users/peace/standalone_projects/experian_coffee/data/arabica_final.csv')"
   ]
  },
  {
   "cell_type": "code",
   "execution_count": 186,
   "metadata": {},
   "outputs": [],
   "source": [
    "arabica_df=arabica_df.rename(columns={'Country.of.Origin':'Country_of_Origin','Farm.Name':'Farm_Name','Lot.Number':'Lot_Number','ICO.Number':'ICO_Number','Number.of.Bags':'Number_of_Bags','Bag.Weight':'Bag_Weight','In.Country.Partner':'In_Country_Partner','Harvest.Year':'Harvest_Year','Grading.Date':'Grading_Date','Processing.Method':'Processing_Method','Clean.Cup':'Clean_Cup','Total.Cup.Points':'Total_Cup_Points','Category.One.Defects':'Category_One_Defects','Category.Two.Defects':'Category_Two_Defects','Certification.Body':'Certification_Body','Certification.Address':'Certification_Address','Certification.Contact':'Certification_Contact','Cupper.Points':'Cupper_Points'})"
   ]
  },
  {
   "cell_type": "code",
   "execution_count": 187,
   "metadata": {},
   "outputs": [
    {
     "data": {
      "text/html": [
       "<div>\n",
       "<style scoped>\n",
       "    .dataframe tbody tr th:only-of-type {\n",
       "        vertical-align: middle;\n",
       "    }\n",
       "\n",
       "    .dataframe tbody tr th {\n",
       "        vertical-align: top;\n",
       "    }\n",
       "\n",
       "    .dataframe thead th {\n",
       "        text-align: right;\n",
       "    }\n",
       "</style>\n",
       "<table border=\"1\" class=\"dataframe\">\n",
       "  <thead>\n",
       "    <tr style=\"text-align: right;\">\n",
       "      <th></th>\n",
       "      <th>Species</th>\n",
       "      <th>Owner</th>\n",
       "      <th>Country_of_Origin</th>\n",
       "      <th>Farm_Name</th>\n",
       "      <th>Lot_Number</th>\n",
       "      <th>Mill</th>\n",
       "      <th>ICO_Number</th>\n",
       "      <th>Company</th>\n",
       "      <th>Region</th>\n",
       "      <th>Producer</th>\n",
       "      <th>Bag_Weight</th>\n",
       "      <th>In_Country_Partner</th>\n",
       "      <th>Harvest_Year</th>\n",
       "      <th>Grading_Date</th>\n",
       "      <th>Owner.1</th>\n",
       "      <th>Variety</th>\n",
       "      <th>Processing_Method</th>\n",
       "      <th>Color</th>\n",
       "      <th>Expiration</th>\n",
       "      <th>Certification_Body</th>\n",
       "      <th>Certification_Address</th>\n",
       "      <th>Certification_Contact</th>\n",
       "    </tr>\n",
       "  </thead>\n",
       "  <tbody>\n",
       "    <tr>\n",
       "      <th>count</th>\n",
       "      <td>1439</td>\n",
       "      <td>1432</td>\n",
       "      <td>1438</td>\n",
       "      <td>1062</td>\n",
       "      <td>398</td>\n",
       "      <td>1112</td>\n",
       "      <td>1257</td>\n",
       "      <td>1230</td>\n",
       "      <td>1381</td>\n",
       "      <td>1207</td>\n",
       "      <td>1439</td>\n",
       "      <td>1439</td>\n",
       "      <td>1392</td>\n",
       "      <td>1439</td>\n",
       "      <td>1432</td>\n",
       "      <td>1238</td>\n",
       "      <td>1287</td>\n",
       "      <td>1222</td>\n",
       "      <td>1439</td>\n",
       "      <td>1439</td>\n",
       "      <td>1439</td>\n",
       "      <td>1439</td>\n",
       "    </tr>\n",
       "    <tr>\n",
       "      <th>unique</th>\n",
       "      <td>1</td>\n",
       "      <td>339</td>\n",
       "      <td>36</td>\n",
       "      <td>605</td>\n",
       "      <td>317</td>\n",
       "      <td>496</td>\n",
       "      <td>916</td>\n",
       "      <td>300</td>\n",
       "      <td>372</td>\n",
       "      <td>734</td>\n",
       "      <td>61</td>\n",
       "      <td>31</td>\n",
       "      <td>50</td>\n",
       "      <td>632</td>\n",
       "      <td>347</td>\n",
       "      <td>32</td>\n",
       "      <td>5</td>\n",
       "      <td>9</td>\n",
       "      <td>631</td>\n",
       "      <td>30</td>\n",
       "      <td>46</td>\n",
       "      <td>43</td>\n",
       "    </tr>\n",
       "    <tr>\n",
       "      <th>top</th>\n",
       "      <td>Arabica</td>\n",
       "      <td>juan luis alvarado romero</td>\n",
       "      <td>mexico</td>\n",
       "      <td>various</td>\n",
       "      <td>1</td>\n",
       "      <td>beneficio ixchel</td>\n",
       "      <td>0</td>\n",
       "      <td>unex guatemala, s.a.</td>\n",
       "      <td>huila</td>\n",
       "      <td>la plata</td>\n",
       "      <td>1 kg</td>\n",
       "      <td>Specialty Coffee Association</td>\n",
       "      <td>2012</td>\n",
       "      <td>July 11th, 2012</td>\n",
       "      <td>Juan Luis Alvarado Romero</td>\n",
       "      <td>Caturra</td>\n",
       "      <td>Washed / Wet</td>\n",
       "      <td>Green</td>\n",
       "      <td>July 11th, 2013</td>\n",
       "      <td>Specialty Coffee Association</td>\n",
       "      <td>36d0d00a3724338ba7937c52a378d085f2172daa</td>\n",
       "      <td>0878a7d4b9d35ddbf0fe2ce69a2062cceb45a660</td>\n",
       "    </tr>\n",
       "    <tr>\n",
       "      <th>freq</th>\n",
       "      <td>1439</td>\n",
       "      <td>155</td>\n",
       "      <td>240</td>\n",
       "      <td>75</td>\n",
       "      <td>30</td>\n",
       "      <td>92</td>\n",
       "      <td>67</td>\n",
       "      <td>87</td>\n",
       "      <td>121</td>\n",
       "      <td>39</td>\n",
       "      <td>329</td>\n",
       "      <td>298</td>\n",
       "      <td>352</td>\n",
       "      <td>25</td>\n",
       "      <td>155</td>\n",
       "      <td>273</td>\n",
       "      <td>900</td>\n",
       "      <td>938</td>\n",
       "      <td>25</td>\n",
       "      <td>298</td>\n",
       "      <td>293</td>\n",
       "      <td>295</td>\n",
       "    </tr>\n",
       "  </tbody>\n",
       "</table>\n",
       "</div>"
      ],
      "text/plain": [
       "        Species                      Owner Country_of_Origin Farm_Name  \\\n",
       "count      1439                       1432              1438      1062   \n",
       "unique        1                        339                36       605   \n",
       "top     Arabica  juan luis alvarado romero            mexico   various   \n",
       "freq       1439                        155               240        75   \n",
       "\n",
       "       Lot_Number              Mill ICO_Number               Company Region  \\\n",
       "count         398              1112       1257                  1230   1381   \n",
       "unique        317               496        916                   300    372   \n",
       "top             1  beneficio ixchel          0  unex guatemala, s.a.  huila   \n",
       "freq           30                92         67                    87    121   \n",
       "\n",
       "        Producer Bag_Weight            In_Country_Partner Harvest_Year  \\\n",
       "count       1207       1439                          1439         1392   \n",
       "unique       734         61                            31           50   \n",
       "top     la plata       1 kg  Specialty Coffee Association         2012   \n",
       "freq          39        329                           298          352   \n",
       "\n",
       "           Grading_Date                    Owner.1  Variety Processing_Method  \\\n",
       "count              1439                       1432     1238              1287   \n",
       "unique              632                        347       32                 5   \n",
       "top     July 11th, 2012  Juan Luis Alvarado Romero  Caturra      Washed / Wet   \n",
       "freq                 25                        155      273               900   \n",
       "\n",
       "        Color       Expiration            Certification_Body  \\\n",
       "count    1222             1439                          1439   \n",
       "unique      9              631                            30   \n",
       "top     Green  July 11th, 2013  Specialty Coffee Association   \n",
       "freq      938               25                           298   \n",
       "\n",
       "                           Certification_Address  \\\n",
       "count                                       1439   \n",
       "unique                                        46   \n",
       "top     36d0d00a3724338ba7937c52a378d085f2172daa   \n",
       "freq                                         293   \n",
       "\n",
       "                           Certification_Contact  \n",
       "count                                       1439  \n",
       "unique                                        43  \n",
       "top     0878a7d4b9d35ddbf0fe2ce69a2062cceb45a660  \n",
       "freq                                         295  "
      ]
     },
     "execution_count": 187,
     "metadata": {},
     "output_type": "execute_result"
    }
   ],
   "source": [
    "arabica_df.describe(include='object')"
   ]
  },
  {
   "cell_type": "code",
   "execution_count": 222,
   "metadata": {},
   "outputs": [
    {
     "data": {
      "text/html": [
       "<div>\n",
       "<style scoped>\n",
       "    .dataframe tbody tr th:only-of-type {\n",
       "        vertical-align: middle;\n",
       "    }\n",
       "\n",
       "    .dataframe tbody tr th {\n",
       "        vertical-align: top;\n",
       "    }\n",
       "\n",
       "    .dataframe thead th {\n",
       "        text-align: right;\n",
       "    }\n",
       "</style>\n",
       "<table border=\"1\" class=\"dataframe\">\n",
       "  <thead>\n",
       "    <tr style=\"text-align: right;\">\n",
       "      <th></th>\n",
       "      <th>Number_of_Bags</th>\n",
       "      <th>Aroma</th>\n",
       "      <th>Flavor</th>\n",
       "      <th>Aftertaste</th>\n",
       "      <th>Acidity</th>\n",
       "      <th>Body</th>\n",
       "      <th>Balance</th>\n",
       "      <th>Uniformity</th>\n",
       "      <th>Clean_Cup</th>\n",
       "      <th>Sweetness</th>\n",
       "      <th>Cupper_Points</th>\n",
       "      <th>Total_Cup_Points</th>\n",
       "      <th>Moisture</th>\n",
       "      <th>Category_One_Defects</th>\n",
       "      <th>Quakers</th>\n",
       "      <th>Category_Two_Defects</th>\n",
       "    </tr>\n",
       "  </thead>\n",
       "  <tbody>\n",
       "    <tr>\n",
       "      <th>count</th>\n",
       "      <td>1438.000000</td>\n",
       "      <td>1438.000000</td>\n",
       "      <td>1438.000000</td>\n",
       "      <td>1438.000000</td>\n",
       "      <td>1438.000000</td>\n",
       "      <td>1438.000000</td>\n",
       "      <td>1438.000000</td>\n",
       "      <td>1438.000000</td>\n",
       "      <td>1438.000000</td>\n",
       "      <td>1438.000000</td>\n",
       "      <td>1438.000000</td>\n",
       "      <td>1438.000000</td>\n",
       "      <td>1438.000000</td>\n",
       "      <td>1438.000000</td>\n",
       "      <td>1438.000000</td>\n",
       "      <td>1438.000000</td>\n",
       "    </tr>\n",
       "    <tr>\n",
       "      <th>mean</th>\n",
       "      <td>161.424200</td>\n",
       "      <td>7.576613</td>\n",
       "      <td>7.533971</td>\n",
       "      <td>7.408971</td>\n",
       "      <td>7.546057</td>\n",
       "      <td>7.530953</td>\n",
       "      <td>7.529096</td>\n",
       "      <td>9.847636</td>\n",
       "      <td>9.848783</td>\n",
       "      <td>9.915522</td>\n",
       "      <td>7.504805</td>\n",
       "      <td>82.244228</td>\n",
       "      <td>0.090513</td>\n",
       "      <td>0.394993</td>\n",
       "      <td>0.263561</td>\n",
       "      <td>3.539638</td>\n",
       "    </tr>\n",
       "    <tr>\n",
       "      <th>std</th>\n",
       "      <td>135.909707</td>\n",
       "      <td>0.314801</td>\n",
       "      <td>0.340849</td>\n",
       "      <td>0.346452</td>\n",
       "      <td>0.318332</td>\n",
       "      <td>0.290784</td>\n",
       "      <td>0.344354</td>\n",
       "      <td>0.489283</td>\n",
       "      <td>0.702119</td>\n",
       "      <td>0.447359</td>\n",
       "      <td>0.410444</td>\n",
       "      <td>2.693403</td>\n",
       "      <td>0.046520</td>\n",
       "      <td>1.755723</td>\n",
       "      <td>1.077740</td>\n",
       "      <td>5.181953</td>\n",
       "    </tr>\n",
       "    <tr>\n",
       "      <th>min</th>\n",
       "      <td>0.000000</td>\n",
       "      <td>5.080000</td>\n",
       "      <td>6.080000</td>\n",
       "      <td>6.170000</td>\n",
       "      <td>5.250000</td>\n",
       "      <td>5.250000</td>\n",
       "      <td>6.080000</td>\n",
       "      <td>6.000000</td>\n",
       "      <td>0.000000</td>\n",
       "      <td>1.330000</td>\n",
       "      <td>5.170000</td>\n",
       "      <td>59.830000</td>\n",
       "      <td>0.000000</td>\n",
       "      <td>0.000000</td>\n",
       "      <td>0.000000</td>\n",
       "      <td>0.000000</td>\n",
       "    </tr>\n",
       "    <tr>\n",
       "      <th>25%</th>\n",
       "      <td>16.000000</td>\n",
       "      <td>7.420000</td>\n",
       "      <td>7.330000</td>\n",
       "      <td>7.250000</td>\n",
       "      <td>7.330000</td>\n",
       "      <td>7.330000</td>\n",
       "      <td>7.330000</td>\n",
       "      <td>10.000000</td>\n",
       "      <td>10.000000</td>\n",
       "      <td>10.000000</td>\n",
       "      <td>7.330000</td>\n",
       "      <td>81.250000</td>\n",
       "      <td>0.100000</td>\n",
       "      <td>0.000000</td>\n",
       "      <td>0.000000</td>\n",
       "      <td>0.000000</td>\n",
       "    </tr>\n",
       "    <tr>\n",
       "      <th>50%</th>\n",
       "      <td>200.000000</td>\n",
       "      <td>7.580000</td>\n",
       "      <td>7.580000</td>\n",
       "      <td>7.420000</td>\n",
       "      <td>7.580000</td>\n",
       "      <td>7.500000</td>\n",
       "      <td>7.500000</td>\n",
       "      <td>10.000000</td>\n",
       "      <td>10.000000</td>\n",
       "      <td>10.000000</td>\n",
       "      <td>7.500000</td>\n",
       "      <td>82.580000</td>\n",
       "      <td>0.110000</td>\n",
       "      <td>0.000000</td>\n",
       "      <td>0.000000</td>\n",
       "      <td>2.000000</td>\n",
       "    </tr>\n",
       "    <tr>\n",
       "      <th>75%</th>\n",
       "      <td>275.000000</td>\n",
       "      <td>7.750000</td>\n",
       "      <td>7.750000</td>\n",
       "      <td>7.580000</td>\n",
       "      <td>7.750000</td>\n",
       "      <td>7.670000</td>\n",
       "      <td>7.750000</td>\n",
       "      <td>10.000000</td>\n",
       "      <td>10.000000</td>\n",
       "      <td>10.000000</td>\n",
       "      <td>7.750000</td>\n",
       "      <td>83.670000</td>\n",
       "      <td>0.120000</td>\n",
       "      <td>0.000000</td>\n",
       "      <td>0.000000</td>\n",
       "      <td>4.000000</td>\n",
       "    </tr>\n",
       "    <tr>\n",
       "      <th>max</th>\n",
       "      <td>1280.000000</td>\n",
       "      <td>8.750000</td>\n",
       "      <td>8.830000</td>\n",
       "      <td>8.670000</td>\n",
       "      <td>8.750000</td>\n",
       "      <td>8.580000</td>\n",
       "      <td>8.750000</td>\n",
       "      <td>10.000000</td>\n",
       "      <td>10.000000</td>\n",
       "      <td>10.000000</td>\n",
       "      <td>10.000000</td>\n",
       "      <td>90.580000</td>\n",
       "      <td>0.280000</td>\n",
       "      <td>31.000000</td>\n",
       "      <td>18.000000</td>\n",
       "      <td>55.000000</td>\n",
       "    </tr>\n",
       "  </tbody>\n",
       "</table>\n",
       "</div>"
      ],
      "text/plain": [
       "       Number_of_Bags        Aroma       Flavor   Aftertaste      Acidity  \\\n",
       "count     1438.000000  1438.000000  1438.000000  1438.000000  1438.000000   \n",
       "mean       161.424200     7.576613     7.533971     7.408971     7.546057   \n",
       "std        135.909707     0.314801     0.340849     0.346452     0.318332   \n",
       "min          0.000000     5.080000     6.080000     6.170000     5.250000   \n",
       "25%         16.000000     7.420000     7.330000     7.250000     7.330000   \n",
       "50%        200.000000     7.580000     7.580000     7.420000     7.580000   \n",
       "75%        275.000000     7.750000     7.750000     7.580000     7.750000   \n",
       "max       1280.000000     8.750000     8.830000     8.670000     8.750000   \n",
       "\n",
       "              Body      Balance   Uniformity    Clean_Cup    Sweetness  \\\n",
       "count  1438.000000  1438.000000  1438.000000  1438.000000  1438.000000   \n",
       "mean      7.530953     7.529096     9.847636     9.848783     9.915522   \n",
       "std       0.290784     0.344354     0.489283     0.702119     0.447359   \n",
       "min       5.250000     6.080000     6.000000     0.000000     1.330000   \n",
       "25%       7.330000     7.330000    10.000000    10.000000    10.000000   \n",
       "50%       7.500000     7.500000    10.000000    10.000000    10.000000   \n",
       "75%       7.670000     7.750000    10.000000    10.000000    10.000000   \n",
       "max       8.580000     8.750000    10.000000    10.000000    10.000000   \n",
       "\n",
       "       Cupper_Points  Total_Cup_Points     Moisture  Category_One_Defects  \\\n",
       "count    1438.000000       1438.000000  1438.000000           1438.000000   \n",
       "mean        7.504805         82.244228     0.090513              0.394993   \n",
       "std         0.410444          2.693403     0.046520              1.755723   \n",
       "min         5.170000         59.830000     0.000000              0.000000   \n",
       "25%         7.330000         81.250000     0.100000              0.000000   \n",
       "50%         7.500000         82.580000     0.110000              0.000000   \n",
       "75%         7.750000         83.670000     0.120000              0.000000   \n",
       "max        10.000000         90.580000     0.280000             31.000000   \n",
       "\n",
       "           Quakers  Category_Two_Defects  \n",
       "count  1438.000000           1438.000000  \n",
       "mean      0.263561              3.539638  \n",
       "std       1.077740              5.181953  \n",
       "min       0.000000              0.000000  \n",
       "25%       0.000000              0.000000  \n",
       "50%       0.000000              2.000000  \n",
       "75%       0.000000              4.000000  \n",
       "max      18.000000             55.000000  "
      ]
     },
     "execution_count": 222,
     "metadata": {},
     "output_type": "execute_result"
    }
   ],
   "source": [
    "arabica_df.describe()"
   ]
  },
  {
   "cell_type": "markdown",
   "metadata": {},
   "source": [
    "* The minimum values of some cols (Aroma, Flavor, Aftertaste...) are zero, which is quite strange (del the row)"
   ]
  },
  {
   "cell_type": "code",
   "execution_count": 189,
   "metadata": {},
   "outputs": [],
   "source": [
    "# Delete the only row that has all zero gradings\n",
    "error_index=arabica_df[arabica_df['Flavor']==0].index.values[0]\n",
    "arabica_df=arabica_df.drop(error_index)"
   ]
  },
  {
   "cell_type": "markdown",
   "metadata": {},
   "source": [
    "## Check Missing Values"
   ]
  },
  {
   "cell_type": "code",
   "execution_count": 191,
   "metadata": {},
   "outputs": [],
   "source": [
    "total=arabica_df.isnull().sum().sort_values(ascending=False)\n",
    "percentage=(total/arabica_df.isnull().count()).sort_values(ascending=False)"
   ]
  },
  {
   "cell_type": "code",
   "execution_count": 214,
   "metadata": {},
   "outputs": [
    {
     "data": {
      "text/plain": [
       "(227, 39)"
      ]
     },
     "execution_count": 214,
     "metadata": {},
     "output_type": "execute_result"
    }
   ],
   "source": [
    "arabica_df[arabica_df['Altitude'].isnull()].shape"
   ]
  },
  {
   "cell_type": "code",
   "execution_count": 192,
   "metadata": {},
   "outputs": [
    {
     "data": {
      "text/plain": [
       "Lot_Number           0.723922\n",
       "Farm_Name            0.262170\n",
       "Mill                 0.227399\n",
       "Producer             0.161335\n",
       "Altitude             0.157858\n",
       "Color                0.150904\n",
       "Company              0.145341\n",
       "Variety              0.139777\n",
       "ICO_Number           0.126565\n",
       "Processing_Method    0.105007\n",
       "Cupper_Points        0.089013\n",
       "Region               0.040334\n",
       "Harvest_Year         0.032684\n",
       "Owner.1              0.004868\n",
       "Owner                0.004868\n",
       "Quakers              0.000695\n",
       "Country_of_Origin    0.000695\n",
       "dtype: float64"
      ]
     },
     "execution_count": 192,
     "metadata": {},
     "output_type": "execute_result"
    }
   ],
   "source": [
    "percentage.head(17)"
   ]
  },
  {
   "cell_type": "markdown",
   "metadata": {},
   "source": [
    "### Delete Cols with High Percentage of Missing Values"
   ]
  },
  {
   "cell_type": "code",
   "execution_count": 217,
   "metadata": {},
   "outputs": [],
   "source": [
    "arabica_df.drop(['Lot_Number','Farm_Name','Mill','Producer','Altitude'],1,inplace=True)"
   ]
  },
  {
   "cell_type": "markdown",
   "metadata": {},
   "source": [
    "### Impute Missing Values"
   ]
  },
  {
   "cell_type": "markdown",
   "metadata": {},
   "source": [
    "#### Quakers\n",
    "One missing value\n",
    "* Only 1/54 coffee beans from the same owner have one Quaker"
   ]
  },
  {
   "cell_type": "code",
   "execution_count": 195,
   "metadata": {},
   "outputs": [],
   "source": [
    "arabica_df['Quakers']=arabica_df['Quakers'].fillna(0)"
   ]
  },
  {
   "cell_type": "markdown",
   "metadata": {},
   "source": [
    "#### Cupper Points\n",
    "The newly scrapped data dosen't have cupper_points col\n",
    "* Fill nan with the median value from the same In_Country_Partner\n",
    "* Fill the rest nan with the median value of the dataset"
   ]
  },
  {
   "cell_type": "code",
   "execution_count": 196,
   "metadata": {
    "scrolled": true
   },
   "outputs": [
    {
     "name": "stderr",
     "output_type": "stream",
     "text": [
      "/anaconda3/envs/coffee_recommendation/lib/python3.8/site-packages/numpy/lib/nanfunctions.py:1111: RuntimeWarning: Mean of empty slice\n",
      "  return np.nanmean(a, axis, out=out, keepdims=keepdims)\n"
     ]
    }
   ],
   "source": [
    "arabica_df['Cupper_Points']=arabica_df.groupby('In_Country_Partner').Cupper_Points.apply(lambda s: s.fillna(s.median()))\n",
    "arabica_df['Cupper_Points']=arabica_df['Cupper_Points'].fillna(arabica_df['Cupper_Points'].median())"
   ]
  },
  {
   "cell_type": "markdown",
   "metadata": {},
   "source": [
    "## Clustering\n"
   ]
  },
  {
   "cell_type": "code",
   "execution_count": 227,
   "metadata": {},
   "outputs": [
    {
     "name": "stderr",
     "output_type": "stream",
     "text": [
      "/anaconda3/envs/coffee_recommendation/lib/python3.8/site-packages/pandas/core/frame.py:3990: SettingWithCopyWarning: \n",
      "A value is trying to be set on a copy of a slice from a DataFrame\n",
      "\n",
      "See the caveats in the documentation: https://pandas.pydata.org/pandas-docs/stable/user_guide/indexing.html#returning-a-view-versus-a-copy\n",
      "  return super().drop(\n"
     ]
    },
    {
     "data": {
      "text/plain": [
       "Aroma                   0\n",
       "Flavor                  0\n",
       "Aftertaste              0\n",
       "Acidity                 0\n",
       "Body                    0\n",
       "Balance                 0\n",
       "Uniformity              0\n",
       "Clean_Cup               0\n",
       "Sweetness               0\n",
       "Cupper_Points           0\n",
       "Total_Cup_Points        0\n",
       "Moisture                0\n",
       "Category_One_Defects    0\n",
       "Quakers                 0\n",
       "Category_Two_Defects    0\n",
       "dtype: int64"
      ]
     },
     "execution_count": 227,
     "metadata": {},
     "output_type": "execute_result"
    }
   ],
   "source": [
    "# Prepare the data\n",
    "X = arabica_df.select_dtypes(exclude=['object'])\n",
    "X.drop('Number_of_Bags',1,inplace=True)\n",
    "X.isnull().sum()"
   ]
  },
  {
   "cell_type": "markdown",
   "metadata": {},
   "source": [
    "### K-Means with euclidean distance"
   ]
  },
  {
   "cell_type": "code",
   "execution_count": 318,
   "metadata": {},
   "outputs": [
    {
     "data": {
      "image/png": "[encoded data removed]",
      "text/plain": [
       "<Figure size 504x288 with 1 Axes>"
      ]
     },
     "metadata": {
      "needs_background": "light"
     },
     "output_type": "display_data"
    }
   ],
   "source": [
    "# Elbow method to determine the number of clusters \n",
    "from sklearn.cluster import KMeans\n",
    "\n",
    "clusters=[]\n",
    "\n",
    "for i in range(1,11):\n",
    "    km=KMeans(n_clusters=i).fit(X)\n",
    "    clusters.append(km.inertia_)\n",
    "\n",
    "fig,ax=plt.subplots(figsize=(7,4))\n",
    "sns.lineplot(x=list(range(1,11)),y=clusters,ax=ax)\n",
    "ax.set_title('Inertia of Euclidean k-Means versus number of clusters')\n",
    "ax.set_xlabel('Clusters')\n",
    "ax.set_ylabel('Inertia')\n",
    "\n",
    "plt.show()"
   ]
  },
  {
   "cell_type": "markdown",
   "metadata": {},
   "source": [
    "As can be seen from the graph, 3 is the last bend."
   ]
  },
  {
   "cell_type": "markdown",
   "metadata": {},
   "source": [
    "### K-means with cosine distance"
   ]
  },
  {
   "cell_type": "code",
   "execution_count": 317,
   "metadata": {},
   "outputs": [
    {
     "data": {
      "image/png": "[encoded data removed]",
      "text/plain": [
       "<Figure size 504x288 with 1 Axes>"
      ]
     },
     "metadata": {
      "needs_background": "light"
     },
     "output_type": "display_data"
    }
   ],
   "source": [
    "from sklearn import preprocessing\n",
    "\n",
    "clusters=[]\n",
    "\n",
    "normalized_vectors=preprocessing.normalize(X)\n",
    "for i in range(1,11):\n",
    "    km=KMeans(n_clusters=i).fit(normalized_vectors)\n",
    "    clusters.append(km.inertia_)\n",
    "\n",
    "fig,ax=plt.subplots(figsize=(7,4))\n",
    "sns.lineplot(np.arange(1,11),clusters)\n",
    "\n",
    "plt.xlabel('Number of clusters')\n",
    "plt.ylabel(\"Inertia\")\n",
    "plt.title(\"Inertia of Cosine k-Means versus number of clusters\")\n",
    "\n",
    "plt.show()"
   ]
  },
  {
   "cell_type": "markdown",
   "metadata": {},
   "source": [
    "### DBSCAN (based on the density of data points)\n",
    "* minPts: at least the number of features in your data\n",
    "* eps: "
   ]
  },
  {
   "cell_type": "markdown",
   "metadata": {},
   "source": [
    "### Evaluation (Sihouette Score)\n",
    "(b-a)/max(a,b)\n",
    "* a- mean intra-cluster distance\n",
    "* b- mean nearest-cluster distance"
   ]
  },
  {
   "cell_type": "code",
   "execution_count": 263,
   "metadata": {},
   "outputs": [
    {
     "name": "stdout",
     "output_type": "stream",
     "text": [
      "kmeans: 0.49713662963150945\n",
      "Cosine kmeans:0.7583882657229923\n",
      "DBSCAN: 0.8552035848883137\n"
     ]
    }
   ],
   "source": [
    "from sklearn.metrics import silhouette_score\n",
    "from sklearn.cluster import DBSCAN\n",
    "\n",
    "# prepare models\n",
    "kmeans=KMeans(n_clusters=3).fit(X)\n",
    "\n",
    "normalized_vectors=preprocessing.normalize(X)\n",
    "normalized_kmeans=KMeans(n_clusters=3).fit(normalized_vectors)\n",
    "\n",
    "min_samples=X.shape[1]+1\n",
    "dbscan=DBSCAN(eps=3.5,min_samples=min_samples).fit(X)\n",
    "\n",
    "print('kmeans: {}'.format(silhouette_score(X, kmeans.labels_, \n",
    "                                           metric='euclidean')))\n",
    "print('Cosine kmeans:{}'.format(silhouette_score(normalized_vectors,\n",
    "                                          normalized_kmeans.labels_,\n",
    "                                          metric='cosine')))\n",
    "print('DBSCAN: {}'.format(silhouette_score(X, dbscan.labels_, \n",
    "                                           metric='cosine')))\n"
   ]
  },
  {
   "cell_type": "markdown",
   "metadata": {},
   "source": [
    "As can be seen above, DBSCAN > Cosine > kmeans. Cosine similarity works better due to the high dimensionality of the data"
   ]
  },
  {
   "cell_type": "markdown",
   "metadata": {},
   "source": [
    "### Visualizing Clusters (PCA & t_SNE)"
   ]
  },
  {
   "cell_type": "code",
   "execution_count": 306,
   "metadata": {},
   "outputs": [],
   "source": [
    "from sklearn.decomposition import PCA\n",
    "def pca_prepare(n_components=2,df,labels):\n",
    "    pca=PCA(n_components=n_components)\n",
    "    pca_data=pca.fit_transform(df)\n",
    "    pca_data=np.vstack([pca_data.T,labels]).T\n",
    "    pca_df=pd.DataFrame(pca_data,columns=['x','y','labels'])\n",
    "    return pca_df"
   ]
  },
  {
   "cell_type": "code",
   "execution_count": 331,
   "metadata": {},
   "outputs": [
    {
     "data": {
      "image/png": "[encoded data removed]",
      "text/plain": [
       "<Figure size 720x432 with 3 Axes>"
      ]
     },
     "metadata": {
      "needs_background": "light"
     },
     "output_type": "display_data"
    }
   ],
   "source": [
    "pca_df_kmeans=pca_prepare(2,X,kmeans.labels_)\n",
    "pca_df_cosine_kmeans=pca_prepare(2,normalized_vectors,normalized_kmeans.labels_)\n",
    "pca_df_DBSCAN=pca_prepare(2,X,dbscan.labels_)\n",
    "\n",
    "fig,axes=plt.subplots(3,figsize=(10,6))\n",
    "sns.scatterplot(ax=axes[0],x=pca_df_kmeans.x, y=pca_df_kmeans.y,hue=pca_df_kmeans.labels, palette='Set2').set(title='Kmeans with euclidean')\n",
    "sns.scatterplot(ax=axes[1],x=pca_df_cosine_kmeans.x, y=pca_df_cosine_kmeans.y,hue=pca_df_cosine_kmeans.labels, palette='Set2').set(title='Kmeans with cosine')\n",
    "sns.scatterplot(ax=axes[2],x=pca_df_DBSCAN.x, y=pca_df_DBSCAN.y,hue=pca_df_DBSCAN.labels, palette='Set2').set(title='DBSCAN')\n",
    "\n",
    "fig.suptitle('PCA visualization of the clustering results')\n",
    "fig.show()"
   ]
  },
  {
   "cell_type": "code",
   "execution_count": 334,
   "metadata": {},
   "outputs": [],
   "source": [
    "from sklearn.manifold import TSNE\n",
    "def tsne_prepare(n_components,df,labels):\n",
    "    tsne=TSNE(n_components=n_components)\n",
    "    tsne_data=tsne.fit_transform(df)\n",
    "    tsne_data=np.vstack([tsne_data.T,labels]).T\n",
    "    tsne_df=pd.DataFrame(tsne_data,columns=['x','y','z','labels'])\n",
    "    return tsne_df"
   ]
  },
  {
   "cell_type": "code",
   "execution_count": 335,
   "metadata": {},
   "outputs": [
    {
     "ename": "NameError",
     "evalue": "name 'plot_animation' is not defined",
     "output_type": "error",
     "traceback": [
      "\u001b[0;31m---------------------------------------------------------------------------\u001b[0m",
      "\u001b[0;31mNameError\u001b[0m                                 Traceback (most recent call last)",
      "\u001b[0;32m<ipython-input-335-0bdc16cd90c5>\u001b[0m in \u001b[0;36m<module>\u001b[0;34m\u001b[0m\n\u001b[1;32m      3\u001b[0m \u001b[0mtsne_3d_df_dbscan\u001b[0m \u001b[0;34m=\u001b[0m \u001b[0mtsne_prepare\u001b[0m\u001b[0;34m(\u001b[0m\u001b[0;36m3\u001b[0m\u001b[0;34m,\u001b[0m \u001b[0mX\u001b[0m\u001b[0;34m,\u001b[0m \u001b[0mdbscan\u001b[0m\u001b[0;34m.\u001b[0m\u001b[0mlabels_\u001b[0m\u001b[0;34m)\u001b[0m\u001b[0;34m\u001b[0m\u001b[0;34m\u001b[0m\u001b[0m\n\u001b[1;32m      4\u001b[0m \u001b[0;34m\u001b[0m\u001b[0m\n\u001b[0;32m----> 5\u001b[0;31m \u001b[0mplot_animation\u001b[0m\u001b[0;34m(\u001b[0m\u001b[0mtsne_3d_df_kmeans\u001b[0m\u001b[0;34m,\u001b[0m \u001b[0;34m'kmeans'\u001b[0m\u001b[0;34m,\u001b[0m \u001b[0;34m'kmeans'\u001b[0m\u001b[0;34m)\u001b[0m\u001b[0;34m\u001b[0m\u001b[0;34m\u001b[0m\u001b[0m\n\u001b[0m\u001b[1;32m      6\u001b[0m \u001b[0mplot_animation\u001b[0m\u001b[0;34m(\u001b[0m\u001b[0mtsne_3d_df__cosine_kmeans\u001b[0m\u001b[0;34m,\u001b[0m \u001b[0;34m'normalized_kmeans'\u001b[0m\u001b[0;34m,\u001b[0m \u001b[0;34m'normalized_kmeans'\u001b[0m\u001b[0;34m)\u001b[0m\u001b[0;34m\u001b[0m\u001b[0;34m\u001b[0m\u001b[0m\n\u001b[1;32m      7\u001b[0m \u001b[0mplot_animation\u001b[0m\u001b[0;34m(\u001b[0m\u001b[0mtsne_3d_df_dbscan\u001b[0m\u001b[0;34m,\u001b[0m \u001b[0;34m'dbscan'\u001b[0m\u001b[0;34m,\u001b[0m \u001b[0;34m'dbscan'\u001b[0m\u001b[0;34m)\u001b[0m\u001b[0;34m\u001b[0m\u001b[0;34m\u001b[0m\u001b[0m\n",
      "\u001b[0;31mNameError\u001b[0m: name 'plot_animation' is not defined"
     ]
    }
   ],
   "source": [
    "tsne_3d_df_kmeans = tsne_prepare(3, X, kmeans.labels_)\n",
    "tsne_3d_df__cosine_kmeans = tsne_prepare(3, normalized_vectors,normalized_kmeans.labels_)\n",
    "tsne_3d_df_dbscan = tsne_prepare(3, X, dbscan.labels_)\n",
    "\n",
    "plot_animation(tsne_3d_df_kmeans, 'kmeans', 'kmeans')\n",
    "plot_animation(tsne_3d_df__cosine_kmeans, 'normalized_kmeans', 'normalized_kmeans')\n",
    "plot_animation(tsne_3d_df_dbscan, 'dbscan', 'dbscan')"
   ]
  },
  {
   "cell_type": "code",
   "execution_count": null,
   "metadata": {},
   "outputs": [],
   "source": []
  }
 ],
 "metadata": {
  "kernelspec": {
   "display_name": "coffee_recommendation",
   "language": "python",
   "name": "coffee_recommendation"
  },
  "language_info": {
   "codemirror_mode": {
    "name": "ipython",
    "version": 3
   },
   "file_extension": ".py",
   "mimetype": "text/x-python",
   "name": "python",
   "nbconvert_exporter": "python",
   "pygments_lexer": "ipython3",
   "version": "3.8.5"
  }
 },
 "nbformat": 4,
 "nbformat_minor": 4
}
